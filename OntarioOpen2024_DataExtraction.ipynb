{
 "cells": [
  {
   "cell_type": "code",
   "execution_count": 11,
   "id": "ead0ce78",
   "metadata": {},
   "outputs": [
    {
     "name": "stdout",
     "output_type": "stream",
     "text": [
      "Collecting playwright\n",
      "  Obtaining dependency information for playwright from https://files.pythonhosted.org/packages/1b/e9/db98b5a8a41b3691be52dcc9b9d11b5db01bfc9b835e8e3ffe387b5c9266/playwright-1.51.0-py3-none-macosx_10_13_x86_64.whl.metadata\n",
      "  Downloading playwright-1.51.0-py3-none-macosx_10_13_x86_64.whl.metadata (3.5 kB)\n",
      "Collecting pyee<13,>=12 (from playwright)\n",
      "  Obtaining dependency information for pyee<13,>=12 from https://files.pythonhosted.org/packages/25/68/7e150cba9eeffdeb3c5cecdb6896d70c8edd46ce41c0491e12fb2b2256ff/pyee-12.1.1-py3-none-any.whl.metadata\n",
      "  Downloading pyee-12.1.1-py3-none-any.whl.metadata (2.9 kB)\n",
      "Collecting greenlet<4.0.0,>=3.1.1 (from playwright)\n",
      "  Downloading greenlet-3.1.1.tar.gz (186 kB)\n",
      "\u001b[2K     \u001b[90m━━━━━━━━━━━━━━━━━━━━━━━━━━━━━━━━━━━━━━━\u001b[0m \u001b[32m186.0/186.0 kB\u001b[0m \u001b[31m7.3 MB/s\u001b[0m eta \u001b[36m0:00:00\u001b[0m\n",
      "\u001b[?25h  Installing build dependencies ... \u001b[?25ldone\n",
      "\u001b[?25h  Getting requirements to build wheel ... \u001b[?25ldone\n",
      "\u001b[?25h  Preparing metadata (pyproject.toml) ... \u001b[?25ldone\n",
      "\u001b[?25hRequirement already satisfied: typing-extensions in /Users/amnaazhar/anaconda3/lib/python3.11/site-packages (from pyee<13,>=12->playwright) (4.13.1)\n",
      "Downloading playwright-1.51.0-py3-none-macosx_10_13_x86_64.whl (39.6 MB)\n",
      "\u001b[2K   \u001b[90m━━━━━━━━━━━━━━━━━━━━━━━━━━━━━━━━━━━━━━━━\u001b[0m \u001b[32m39.6/39.6 MB\u001b[0m \u001b[31m9.9 MB/s\u001b[0m eta \u001b[36m0:00:00\u001b[0m:00:01\u001b[0m00:01\u001b[0m\n",
      "\u001b[?25hDownloading pyee-12.1.1-py3-none-any.whl (15 kB)\n",
      "Building wheels for collected packages: greenlet\n",
      "  Building wheel for greenlet (pyproject.toml) ... \u001b[?25ldone\n",
      "\u001b[?25h  Created wheel for greenlet: filename=greenlet-3.1.1-cp311-cp311-macosx_10_9_x86_64.whl size=221520 sha256=38264bc2fd0bfbbb8244d58df95312d43ebe443d9450d4209f3f05ad742c8f29\n",
      "  Stored in directory: /Users/amnaazhar/Library/Caches/pip/wheels/89/6f/cb/20c3f8b17309a7352e4caa477b8f90ab50e2545e7cf6dc9452\n",
      "Successfully built greenlet\n",
      "Installing collected packages: pyee, greenlet, playwright\n",
      "  Attempting uninstall: greenlet\n",
      "    Found existing installation: greenlet 2.0.1\n",
      "    Uninstalling greenlet-2.0.1:\n",
      "      Successfully uninstalled greenlet-2.0.1\n",
      "Successfully installed greenlet-3.1.1 playwright-1.51.0 pyee-12.1.1\n",
      "Note: you may need to restart the kernel to use updated packages.\n"
     ]
    }
   ],
   "source": [
    "pip install playwright\n"
   ]
  },
  {
   "cell_type": "code",
   "execution_count": 14,
   "id": "3be20feb",
   "metadata": {},
   "outputs": [
    {
     "name": "stdout",
     "output_type": "stream",
     "text": [
      "Downloading Chromium 134.0.6998.35 (playwright build v1161)\u001b[2m from https://cdn.playwright.dev/dbazure/download/playwright/builds/chromium/1161/chromium-mac-arm64.zip\u001b[22m\n",
      "\u001b[1G124.1 MiB [                    ] 0% 0.0s\u001b[0K\u001b[1G124.1 MiB [                    ] 0% 6.4s\u001b[0K\u001b[1G124.1 MiB [                    ] 0% 6.3s\u001b[0K\u001b[1G124.1 MiB [                    ] 0% 5.5s\u001b[0K\u001b[1G124.1 MiB [                    ] 1% 5.1s\u001b[0K\u001b[1G124.1 MiB [                    ] 1% 5.2s\u001b[0K\u001b[1G124.1 MiB [                    ] 2% 5.1s\u001b[0K\u001b[1G124.1 MiB [=                   ] 2% 5.3s\u001b[0K\u001b[1G124.1 MiB [=                   ] 2% 5.0s\u001b[0K\u001b[1G124.1 MiB [=                   ] 3% 4.9s\u001b[0K\u001b[1G124.1 MiB [=                   ] 3% 5.0s\u001b[0K\u001b[1G124.1 MiB [=                   ] 4% 4.9s\u001b[0K\u001b[1G124.1 MiB [=                   ] 4% 4.7s\u001b[0K\u001b[1G124.1 MiB [=                   ] 5% 4.6s\u001b[0K\u001b[1G124.1 MiB [=                   ] 5% 4.5s\u001b[0K\u001b[1G124.1 MiB [=                   ] 6% 4.4s\u001b[0K\u001b[1G124.1 MiB [=                   ] 7% 4.3s\u001b[0K\u001b[1G124.1 MiB [==                  ] 7% 4.2s\u001b[0K\u001b[1G124.1 MiB [==                  ] 8% 4.2s\u001b[0K\u001b[1G124.1 MiB [==                  ] 8% 4.0s\u001b[0K\u001b[1G124.1 MiB [==                  ] 9% 4.0s\u001b[0K\u001b[1G124.1 MiB [==                  ] 10% 4.0s\u001b[0K\u001b[1G124.1 MiB [==                  ] 10% 3.9s\u001b[0K\u001b[1G124.1 MiB [==                  ] 11% 3.8s\u001b[0K\u001b[1G124.1 MiB [==                  ] 12% 3.7s\u001b[0K\u001b[1G124.1 MiB [===                 ] 12% 3.7s\u001b[0K\u001b[1G124.1 MiB [===                 ] 13% 3.6s\u001b[0K\u001b[1G124.1 MiB [===                 ] 14% 3.5s\u001b[0K\u001b[1G124.1 MiB [===                 ] 15% 3.5s\u001b[0K\u001b[1G124.1 MiB [===                 ] 15% 3.4s\u001b[0K\u001b[1G124.1 MiB [===                 ] 16% 3.4s\u001b[0K\u001b[1G124.1 MiB [===                 ] 17% 3.3s\u001b[0K\u001b[1G124.1 MiB [====                ] 17% 3.3s\u001b[0K\u001b[1G124.1 MiB [====                ] 18% 3.2s\u001b[0K\u001b[1G124.1 MiB [====                ] 19% 3.1s\u001b[0K\u001b[1G124.1 MiB [====                ] 20% 3.1s\u001b[0K\u001b[1G124.1 MiB [====                ] 21% 3.0s\u001b[0K\u001b[1G124.1 MiB [=====               ] 22% 2.9s\u001b[0K\u001b[1G124.1 MiB [=====               ] 23% 2.9s\u001b[0K\u001b[1G124.1 MiB [=====               ] 24% 2.9s\u001b[0K\u001b[1G124.1 MiB [=====               ] 24% 2.8s\u001b[0K\u001b[1G124.1 MiB [=====               ] 25% 2.8s\u001b[0K\u001b[1G124.1 MiB [=====               ] 26% 2.8s\u001b[0K\u001b[1G124.1 MiB [=====               ] 26% 2.7s\u001b[0K\u001b[1G124.1 MiB [=====               ] 27% 2.7s\u001b[0K\u001b[1G124.1 MiB [======              ] 27% 2.7s\u001b[0K\u001b[1G124.1 MiB [======              ] 28% 2.7s\u001b[0K\u001b[1G124.1 MiB [======              ] 28% 2.6s\u001b[0K\u001b[1G124.1 MiB [======              ] 29% 2.6s\u001b[0K\u001b[1G124.1 MiB [======              ] 30% 2.5s\u001b[0K\u001b[1G124.1 MiB [======              ] 31% 2.5s\u001b[0K\u001b[1G124.1 MiB [======              ] 32% 2.5s\u001b[0K\u001b[1G124.1 MiB [=======             ] 32% 2.4s\u001b[0K\u001b[1G124.1 MiB [=======             ] 33% 2.4s\u001b[0K\u001b[1G124.1 MiB [=======             ] 34% 2.4s\u001b[0K\u001b[1G124.1 MiB [=======             ] 35% 2.4s\u001b[0K\u001b[1G124.1 MiB [=======             ] 35% 2.3s\u001b[0K\u001b[1G124.1 MiB [=======             ] 36% 2.3s\u001b[0K\u001b[1G124.1 MiB [=======             ] 37% 2.3s\u001b[0K\u001b[1G124.1 MiB [========            ] 37% 2.3s\u001b[0K\u001b[1G124.1 MiB [========            ] 38% 2.3s\u001b[0K\u001b[1G124.1 MiB [========            ] 39% 2.3s\u001b[0K\u001b[1G124.1 MiB [========            ] 39% 2.2s\u001b[0K\u001b[1G124.1 MiB [========            ] 40% 2.2s\u001b[0K\u001b[1G124.1 MiB [========            ] 41% 2.2s\u001b[0K\u001b[1G124.1 MiB [========            ] 42% 2.2s\u001b[0K\u001b[1G124.1 MiB [=========           ] 43% 2.1s\u001b[0K\u001b[1G124.1 MiB [=========           ] 44% 2.1s\u001b[0K\u001b[1G124.1 MiB [=========           ] 45% 2.1s\u001b[0K\u001b[1G124.1 MiB [=========           ] 45% 2.0s\u001b[0K\u001b[1G124.1 MiB [=========           ] 46% 2.0s\u001b[0K\u001b[1G124.1 MiB [=========           ] 47% 2.0s\u001b[0K\u001b[1G124.1 MiB [==========          ] 47% 2.0s\u001b[0K\u001b[1G124.1 MiB [==========          ] 48% 2.0s\u001b[0K\u001b[1G124.1 MiB [==========          ] 48% 1.9s\u001b[0K\u001b[1G124.1 MiB [==========          ] 49% 1.9s\u001b[0K\u001b[1G124.1 MiB [==========          ] 50% 1.9s\u001b[0K\u001b[1G124.1 MiB [==========          ] 51% 1.8s\u001b[0K\u001b[1G124.1 MiB [==========          ] 52% 1.8s\u001b[0K\u001b[1G124.1 MiB [===========         ] 52% 1.8s\u001b[0K\u001b[1G124.1 MiB [===========         ] 53% 1.8s\u001b[0K\u001b[1G124.1 MiB [===========         ] 53% 1.7s\u001b[0K\u001b[1G124.1 MiB [===========         ] 54% 1.7s\u001b[0K\u001b[1G124.1 MiB [===========         ] 55% 1.7s\u001b[0K\u001b[1G124.1 MiB [===========         ] 55% 1.6s\u001b[0K\u001b[1G124.1 MiB [===========         ] 56% 1.6s\u001b[0K\u001b[1G124.1 MiB [===========         ] 57% 1.6s\u001b[0K\u001b[1G124.1 MiB [============        ] 58% 1.6s\u001b[0K\u001b[1G124.1 MiB [============        ] 58% 1.5s\u001b[0K\u001b[1G124.1 MiB [============        ] 59% 1.5s\u001b[0K\u001b[1G124.1 MiB [============        ] 60% 1.5s\u001b[0K\u001b[1G124.1 MiB [============        ] 61% 1.5s\u001b[0K\u001b[1G124.1 MiB [============        ] 61% 1.4s\u001b[0K\u001b[1G124.1 MiB [============        ] 62% 1.4s\u001b[0K\u001b[1G124.1 MiB [=============       ] 62% 1.4s\u001b[0K\u001b[1G124.1 MiB [=============       ] 63% 1.4s\u001b[0K\u001b[1G124.1 MiB [=============       ] 64% 1.3s\u001b[0K\u001b[1G124.1 MiB [=============       ] 65% 1.3s\u001b[0K\u001b[1G124.1 MiB [=============       ] 66% 1.3s\u001b[0K\u001b[1G124.1 MiB [=============       ] 66% 1.2s\u001b[0K\u001b[1G124.1 MiB [=============       ] 67% 1.2s\u001b[0K\u001b[1G124.1 MiB [==============      ] 67% 1.2s\u001b[0K\u001b[1G124.1 MiB [==============      ] 68% 1.2s\u001b[0K\u001b[1G124.1 MiB [==============      ] 69% 1.2s\u001b[0K\u001b[1G124.1 MiB [==============      ] 70% 1.1s\u001b[0K\u001b[1G124.1 MiB [==============      ] 71% 1.1s\u001b[0K\u001b[1G124.1 MiB [==============      ] 72% 1.1s\u001b[0K\u001b[1G124.1 MiB [===============     ] 72% 1.1s\u001b[0K\u001b[1G124.1 MiB [===============     ] 72% 1.0s\u001b[0K\u001b[1G124.1 MiB [===============     ] 73% 1.0s\u001b[0K\u001b[1G124.1 MiB [===============     ] 74% 1.0s\u001b[0K\u001b[1G124.1 MiB [===============     ] 75% 1.0s\u001b[0K\u001b[1G124.1 MiB [===============     ] 75% 0.9s\u001b[0K\u001b[1G124.1 MiB [===============     ] 76% 0.9s\u001b[0K\u001b[1G124.1 MiB [===============     ] 77% 0.9s\u001b[0K\u001b[1G124.1 MiB [================    ] 78% 0.8s\u001b[0K\u001b[1G124.1 MiB [================    ] 79% 0.8s\u001b[0K\u001b[1G124.1 MiB [================    ] 80% 0.8s\u001b[0K\u001b[1G124.1 MiB [================    ] 80% 0.7s\u001b[0K\u001b[1G124.1 MiB [================    ] 81% 0.7s\u001b[0K\u001b[1G124.1 MiB [================    ] 82% 0.7s\u001b[0K\u001b[1G124.1 MiB [=================   ] 82% 0.7s\u001b[0K\u001b[1G124.1 MiB [=================   ] 83% 0.6s\u001b[0K\u001b[1G124.1 MiB [=================   ] 84% 0.6s\u001b[0K\u001b[1G124.1 MiB [=================   ] 85% 0.6s\u001b[0K\u001b[1G124.1 MiB [=================   ] 85% 0.5s\u001b[0K\u001b[1G124.1 MiB [=================   ] 86% 0.5s\u001b[0K\u001b[1G124.1 MiB [=================   ] 87% 0.5s\u001b[0K\u001b[1G124.1 MiB [==================  ] 87% 0.5s\u001b[0K\u001b[1G124.1 MiB [==================  ] 88% 0.5s\u001b[0K\u001b[1G124.1 MiB [==================  ] 88% 0.4s\u001b[0K\u001b[1G124.1 MiB [==================  ] 89% 0.4s\u001b[0K\u001b[1G124.1 MiB [==================  ] 90% 0.4s\u001b[0K\u001b[1G124.1 MiB [==================  ] 91% 0.3s\u001b[0K\u001b[1G124.1 MiB [==================  ] 92% 0.3s\u001b[0K\u001b[1G124.1 MiB [=================== ] 93% 0.3s\u001b[0K\u001b[1G124.1 MiB [=================== ] 93% 0.2s\u001b[0K\u001b[1G124.1 MiB [=================== ] 94% 0.2s\u001b[0K\u001b[1G124.1 MiB [=================== ] 95% 0.2s\u001b[0K\u001b[1G124.1 MiB [=================== ] 96% 0.1s\u001b[0K\u001b[1G124.1 MiB [=================== ] 97% 0.1s\u001b[0K\u001b[1G124.1 MiB [====================] 97% 0.1s\u001b[0K\u001b[1G124.1 MiB [====================] 98% 0.1s\u001b[0K\u001b[1G124.1 MiB [====================] 98% 0.0s\u001b[0K\u001b[1G124.1 MiB [====================] 99% 0.0s\u001b[0K\u001b[1G124.1 MiB [====================] 100% 0.0s\u001b[0K\n",
      "Chromium 134.0.6998.35 (playwright build v1161) downloaded to /Users/amnaazhar/Library/Caches/ms-playwright/chromium-1161\n",
      "Downloading Chromium Headless Shell 134.0.6998.35 (playwright build v1161)\u001b[2m from https://cdn.playwright.dev/dbazure/download/playwright/builds/chromium/1161/chromium-headless-shell-mac-arm64.zip\u001b[22m\n"
     ]
    },
    {
     "name": "stdout",
     "output_type": "stream",
     "text": [
      "\u001b[1G78.2 MiB [                    ] 0% 0.0s\u001b[0K\u001b[1G78.2 MiB [                    ] 0% 21.5s\u001b[0K\u001b[1G78.2 MiB [                    ] 0% 11.1s\u001b[0K\u001b[1G78.2 MiB [                    ] 0% 7.7s\u001b[0K\u001b[1G78.2 MiB [                    ] 1% 5.2s\u001b[0K\u001b[1G78.2 MiB [                    ] 2% 4.7s\u001b[0K\u001b[1G78.2 MiB [=                   ] 2% 4.4s\u001b[0K\u001b[1G78.2 MiB [=                   ] 2% 5.2s\u001b[0K\u001b[1G78.2 MiB [=                   ] 3% 5.2s\u001b[0K\u001b[1G78.2 MiB [=                   ] 3% 4.8s\u001b[0K\u001b[1G78.2 MiB [=                   ] 4% 4.5s\u001b[0K\u001b[1G78.2 MiB [=                   ] 5% 4.2s\u001b[0K\u001b[1G78.2 MiB [=                   ] 6% 3.7s\u001b[0K\u001b[1G78.2 MiB [=                   ] 7% 3.4s\u001b[0K\u001b[1G78.2 MiB [==                  ] 7% 4.2s\u001b[0K\u001b[1G78.2 MiB [==                  ] 7% 4.4s\u001b[0K\u001b[1G78.2 MiB [==                  ] 7% 4.6s\u001b[0K\u001b[1G78.2 MiB [==                  ] 7% 4.8s\u001b[0K\u001b[1G78.2 MiB [==                  ] 7% 4.9s\u001b[0K\u001b[1G78.2 MiB [==                  ] 8% 4.9s\u001b[0K\u001b[1G78.2 MiB [==                  ] 8% 4.8s\u001b[0K\u001b[1G78.2 MiB [==                  ] 9% 4.6s\u001b[0K\u001b[1G78.2 MiB [==                  ] 10% 4.3s\u001b[0K\u001b[1G78.2 MiB [==                  ] 10% 4.2s\u001b[0K\u001b[1G78.2 MiB [==                  ] 11% 4.0s\u001b[0K\u001b[1G78.2 MiB [==                  ] 12% 4.0s\u001b[0K\u001b[1G78.2 MiB [===                 ] 12% 3.9s\u001b[0K\u001b[1G78.2 MiB [===                 ] 13% 3.9s\u001b[0K\u001b[1G78.2 MiB [===                 ] 13% 3.8s\u001b[0K\u001b[1G78.2 MiB [===                 ] 14% 3.6s\u001b[0K\u001b[1G78.2 MiB [===                 ] 15% 3.6s\u001b[0K\u001b[1G78.2 MiB [===                 ] 15% 3.5s\u001b[0K\u001b[1G78.2 MiB [===                 ] 16% 3.4s\u001b[0K\u001b[1G78.2 MiB [===                 ] 17% 3.4s\u001b[0K\u001b[1G78.2 MiB [====                ] 17% 3.3s\u001b[0K\u001b[1G78.2 MiB [====                ] 18% 3.2s\u001b[0K\u001b[1G78.2 MiB [====                ] 19% 3.1s\u001b[0K\u001b[1G78.2 MiB [====                ] 20% 3.1s\u001b[0K\u001b[1G78.2 MiB [====                ] 21% 3.1s\u001b[0K\u001b[1G78.2 MiB [====                ] 21% 3.0s\u001b[0K\u001b[1G78.2 MiB [=====               ] 22% 2.9s\u001b[0K\u001b[1G78.2 MiB [=====               ] 23% 2.8s\u001b[0K\u001b[1G78.2 MiB [=====               ] 24% 2.7s\u001b[0K\u001b[1G78.2 MiB [=====               ] 25% 2.7s\u001b[0K\u001b[1G78.2 MiB [=====               ] 26% 2.6s\u001b[0K\u001b[1G78.2 MiB [=====               ] 27% 2.6s\u001b[0K\u001b[1G78.2 MiB [======              ] 28% 2.5s\u001b[0K\u001b[1G78.2 MiB [======              ] 29% 2.5s\u001b[0K\u001b[1G78.2 MiB [======              ] 30% 2.4s\u001b[0K\u001b[1G78.2 MiB [======              ] 31% 2.3s\u001b[0K\u001b[1G78.2 MiB [======              ] 32% 2.3s\u001b[0K\u001b[1G78.2 MiB [=======             ] 32% 2.3s\u001b[0K\u001b[1G78.2 MiB [=======             ] 33% 2.3s\u001b[0K\u001b[1G78.2 MiB [=======             ] 34% 2.2s\u001b[0K\u001b[1G78.2 MiB [=======             ] 35% 2.2s\u001b[0K\u001b[1G78.2 MiB [=======             ] 36% 2.1s\u001b[0K\u001b[1G78.2 MiB [=======             ] 37% 2.1s\u001b[0K\u001b[1G78.2 MiB [========            ] 37% 2.1s\u001b[0K\u001b[1G78.2 MiB [========            ] 38% 2.0s\u001b[0K\u001b[1G78.2 MiB [========            ] 39% 2.0s\u001b[0K\u001b[1G78.2 MiB [========            ] 40% 1.9s\u001b[0K\u001b[1G78.2 MiB [========            ] 41% 1.9s\u001b[0K\u001b[1G78.2 MiB [========            ] 42% 1.9s\u001b[0K\u001b[1G78.2 MiB [=========           ] 42% 1.9s\u001b[0K\u001b[1G78.2 MiB [=========           ] 43% 1.8s\u001b[0K\u001b[1G78.2 MiB [=========           ] 44% 1.8s\u001b[0K\u001b[1G78.2 MiB [=========           ] 45% 1.8s\u001b[0K\u001b[1G78.2 MiB [=========           ] 46% 1.7s\u001b[0K\u001b[1G78.2 MiB [=========           ] 47% 1.7s\u001b[0K\u001b[1G78.2 MiB [==========          ] 47% 1.7s\u001b[0K\u001b[1G78.2 MiB [==========          ] 48% 1.6s\u001b[0K\u001b[1G78.2 MiB [==========          ] 49% 1.6s\u001b[0K\u001b[1G78.2 MiB [==========          ] 50% 1.6s\u001b[0K\u001b[1G78.2 MiB [==========          ] 51% 1.6s\u001b[0K\u001b[1G78.2 MiB [==========          ] 51% 1.5s\u001b[0K\u001b[1G78.2 MiB [==========          ] 52% 1.5s\u001b[0K\u001b[1G78.2 MiB [===========         ] 52% 1.5s\u001b[0K\u001b[1G78.2 MiB [===========         ] 53% 1.5s\u001b[0K\u001b[1G78.2 MiB [===========         ] 54% 1.4s\u001b[0K\u001b[1G78.2 MiB [===========         ] 55% 1.4s\u001b[0K\u001b[1G78.2 MiB [===========         ] 56% 1.4s\u001b[0K\u001b[1G78.2 MiB [============        ] 57% 1.3s\u001b[0K\u001b[1G78.2 MiB [============        ] 58% 1.3s\u001b[0K\u001b[1G78.2 MiB [============        ] 59% 1.3s\u001b[0K\u001b[1G78.2 MiB [============        ] 60% 1.3s\u001b[0K\u001b[1G78.2 MiB [============        ] 60% 1.2s\u001b[0K\u001b[1G78.2 MiB [============        ] 61% 1.2s\u001b[0K\u001b[1G78.2 MiB [============        ] 62% 1.2s\u001b[0K\u001b[1G78.2 MiB [=============       ] 62% 1.1s\u001b[0K\u001b[1G78.2 MiB [=============       ] 63% 1.1s\u001b[0K\u001b[1G78.2 MiB [=============       ] 64% 1.1s\u001b[0K\u001b[1G78.2 MiB [=============       ] 65% 1.1s\u001b[0K\u001b[1G78.2 MiB [=============       ] 66% 1.0s\u001b[0K\u001b[1G78.2 MiB [=============       ] 67% 1.0s\u001b[0K\u001b[1G78.2 MiB [==============      ] 67% 1.0s\u001b[0K\u001b[1G78.2 MiB [==============      ] 68% 1.0s\u001b[0K\u001b[1G78.2 MiB [==============      ] 69% 1.0s\u001b[0K\u001b[1G78.2 MiB [==============      ] 69% 0.9s\u001b[0K\u001b[1G78.2 MiB [==============      ] 70% 0.9s\u001b[0K\u001b[1G78.2 MiB [==============      ] 71% 0.9s\u001b[0K\u001b[1G78.2 MiB [===============     ] 72% 0.9s\u001b[0K\u001b[1G78.2 MiB [===============     ] 73% 0.8s\u001b[0K\u001b[1G78.2 MiB [===============     ] 74% 0.8s\u001b[0K\u001b[1G78.2 MiB [===============     ] 75% 0.8s\u001b[0K\u001b[1G78.2 MiB [===============     ] 76% 0.7s\u001b[0K\u001b[1G78.2 MiB [===============     ] 77% 0.7s\u001b[0K\u001b[1G78.2 MiB [================    ] 77% 0.7s\u001b[0K\u001b[1G78.2 MiB [================    ] 78% 0.7s\u001b[0K\u001b[1G78.2 MiB [================    ] 79% 0.6s\u001b[0K\u001b[1G78.2 MiB [================    ] 80% 0.6s\u001b[0K\u001b[1G78.2 MiB [================    ] 81% 0.6s\u001b[0K\u001b[1G78.2 MiB [================    ] 82% 0.5s\u001b[0K\u001b[1G78.2 MiB [=================   ] 82% 0.5s\u001b[0K\u001b[1G78.2 MiB [=================   ] 83% 0.5s\u001b[0K\u001b[1G78.2 MiB [=================   ] 84% 0.5s\u001b[0K\u001b[1G78.2 MiB [=================   ] 85% 0.5s\u001b[0K\u001b[1G78.2 MiB [=================   ] 85% 0.4s\u001b[0K\u001b[1G78.2 MiB [=================   ] 86% 0.4s\u001b[0K\u001b[1G78.2 MiB [=================   ] 87% 0.4s\u001b[0K\u001b[1G78.2 MiB [==================  ] 87% 0.4s\u001b[0K\u001b[1G78.2 MiB [==================  ] 88% 0.4s\u001b[0K\u001b[1G78.2 MiB [==================  ] 89% 0.3s\u001b[0K\u001b[1G78.2 MiB [==================  ] 90% 0.3s\u001b[0K\u001b[1G78.2 MiB [==================  ] 91% 0.3s\u001b[0K\u001b[1G78.2 MiB [==================  ] 92% 0.2s\u001b[0K\u001b[1G78.2 MiB [=================== ] 92% 0.2s\u001b[0K\u001b[1G78.2 MiB [=================== ] 93% 0.2s\u001b[0K\u001b[1G78.2 MiB [=================== ] 94% 0.2s\u001b[0K\u001b[1G78.2 MiB [=================== ] 95% 0.1s\u001b[0K\u001b[1G78.2 MiB [=================== ] 96% 0.1s\u001b[0K\u001b[1G78.2 MiB [=================== ] 97% 0.1s\u001b[0K\u001b[1G78.2 MiB [====================] 97% 0.1s\u001b[0K\u001b[1G78.2 MiB [====================] 98% 0.0s\u001b[0K\u001b[1G78.2 MiB [====================] 99% 0.0s\u001b[0K\u001b[1G78.2 MiB [====================] 100% 0.0s\u001b[0K\n",
      "Chromium Headless Shell 134.0.6998.35 (playwright build v1161) downloaded to /Users/amnaazhar/Library/Caches/ms-playwright/chromium_headless_shell-1161\n",
      "Downloading Firefox 135.0 (playwright build v1475)\u001b[2m from https://cdn.playwright.dev/dbazure/download/playwright/builds/firefox/1475/firefox-mac-arm64.zip\u001b[22m\n"
     ]
    },
    {
     "name": "stdout",
     "output_type": "stream",
     "text": [
      "\u001b[1G84.9 MiB [                    ] 0% 0.0s\u001b[0K\u001b[1G84.9 MiB [                    ] 0% 39.3s\u001b[0K\u001b[1G84.9 MiB [                    ] 0% 32.6s\u001b[0K\u001b[1G84.9 MiB [                    ] 0% 20.9s\u001b[0K\u001b[1G84.9 MiB [                    ] 0% 11.7s\u001b[0K\u001b[1G84.9 MiB [                    ] 1% 7.2s\u001b[0K\u001b[1G84.9 MiB [                    ] 1% 5.7s\u001b[0K\u001b[1G84.9 MiB [                    ] 2% 5.0s\u001b[0K\u001b[1G84.9 MiB [=                   ] 3% 4.4s\u001b[0K\u001b[1G84.9 MiB [=                   ] 3% 4.2s\u001b[0K\u001b[1G84.9 MiB [=                   ] 4% 4.1s\u001b[0K\u001b[1G84.9 MiB [=                   ] 4% 3.7s\u001b[0K\u001b[1G84.9 MiB [=                   ] 5% 3.8s\u001b[0K\u001b[1G84.9 MiB [=                   ] 5% 3.9s\u001b[0K\u001b[1G84.9 MiB [=                   ] 6% 3.8s\u001b[0K\u001b[1G84.9 MiB [=                   ] 7% 3.7s\u001b[0K\u001b[1G84.9 MiB [==                  ] 7% 3.6s\u001b[0K\u001b[1G84.9 MiB [==                  ] 8% 3.7s\u001b[0K\u001b[1G84.9 MiB [==                  ] 9% 3.6s\u001b[0K\u001b[1G84.9 MiB [==                  ] 9% 3.5s\u001b[0K\u001b[1G84.9 MiB [==                  ] 10% 3.5s\u001b[0K\u001b[1G84.9 MiB [==                  ] 10% 3.4s\u001b[0K\u001b[1G84.9 MiB [==                  ] 11% 3.4s\u001b[0K\u001b[1G84.9 MiB [==                  ] 11% 3.5s\u001b[0K\u001b[1G84.9 MiB [==                  ] 12% 3.4s\u001b[0K\u001b[1G84.9 MiB [===                 ] 13% 3.2s\u001b[0K\u001b[1G84.9 MiB [===                 ] 14% 3.1s\u001b[0K\u001b[1G84.9 MiB [===                 ] 15% 3.0s\u001b[0K\u001b[1G84.9 MiB [===                 ] 15% 2.9s\u001b[0K\u001b[1G84.9 MiB [===                 ] 16% 2.9s\u001b[0K\u001b[1G84.9 MiB [===                 ] 17% 2.8s\u001b[0K\u001b[1G84.9 MiB [====                ] 17% 2.8s\u001b[0K\u001b[1G84.9 MiB [====                ] 18% 2.7s\u001b[0K\u001b[1G84.9 MiB [====                ] 19% 2.7s\u001b[0K\u001b[1G84.9 MiB [====                ] 19% 2.6s\u001b[0K\u001b[1G84.9 MiB [====                ] 20% 2.6s\u001b[0K\u001b[1G84.9 MiB [====                ] 21% 2.6s\u001b[0K\u001b[1G84.9 MiB [====                ] 22% 2.5s\u001b[0K\u001b[1G84.9 MiB [=====               ] 23% 2.5s\u001b[0K\u001b[1G84.9 MiB [=====               ] 23% 2.4s\u001b[0K\u001b[1G84.9 MiB [=====               ] 24% 2.4s\u001b[0K\u001b[1G84.9 MiB [=====               ] 25% 2.3s\u001b[0K\u001b[1G84.9 MiB [=====               ] 26% 2.3s\u001b[0K\u001b[1G84.9 MiB [=====               ] 27% 2.3s\u001b[0K\u001b[1G84.9 MiB [======              ] 28% 2.2s\u001b[0K\u001b[1G84.9 MiB [======              ] 29% 2.2s\u001b[0K\u001b[1G84.9 MiB [======              ] 30% 2.1s\u001b[0K\u001b[1G84.9 MiB [======              ] 31% 2.1s\u001b[0K\u001b[1G84.9 MiB [======              ] 32% 2.0s\u001b[0K\u001b[1G84.9 MiB [=======             ] 32% 2.0s\u001b[0K\u001b[1G84.9 MiB [=======             ] 33% 2.0s\u001b[0K\u001b[1G84.9 MiB [=======             ] 34% 2.0s\u001b[0K\u001b[1G84.9 MiB [=======             ] 34% 1.9s\u001b[0K\u001b[1G84.9 MiB [=======             ] 35% 1.9s\u001b[0K\u001b[1G84.9 MiB [=======             ] 36% 1.9s\u001b[0K\u001b[1G84.9 MiB [========            ] 37% 1.9s\u001b[0K\u001b[1G84.9 MiB [========            ] 37% 1.8s\u001b[0K\u001b[1G84.9 MiB [========            ] 38% 1.8s\u001b[0K\u001b[1G84.9 MiB [========            ] 39% 1.8s\u001b[0K\u001b[1G84.9 MiB [========            ] 40% 1.8s\u001b[0K\u001b[1G84.9 MiB [========            ] 40% 1.7s\u001b[0K\u001b[1G84.9 MiB [========            ] 41% 1.7s\u001b[0K\u001b[1G84.9 MiB [========            ] 42% 1.7s\u001b[0K\u001b[1G84.9 MiB [=========           ] 43% 1.6s\u001b[0K\u001b[1G84.9 MiB [=========           ] 44% 1.7s\u001b[0K\u001b[1G84.9 MiB [=========           ] 45% 1.6s\u001b[0K\u001b[1G84.9 MiB [=========           ] 47% 1.5s\u001b[0K\u001b[1G84.9 MiB [==========          ] 47% 1.5s\u001b[0K\u001b[1G84.9 MiB [==========          ] 50% 1.4s\u001b[0K\u001b[1G84.9 MiB [==========          ] 51% 1.4s\u001b[0K\u001b[1G84.9 MiB [===========         ] 53% 1.4s\u001b[0K\u001b[1G84.9 MiB [===========         ] 54% 1.3s\u001b[0K\u001b[1G84.9 MiB [===========         ] 55% 1.3s\u001b[0K\u001b[1G84.9 MiB [============        ] 57% 1.2s\u001b[0K\u001b[1G84.9 MiB [============        ] 59% 1.1s\u001b[0K\u001b[1G84.9 MiB [============        ] 60% 1.1s\u001b[0K\u001b[1G84.9 MiB [============        ] 61% 1.1s\u001b[0K\u001b[1G84.9 MiB [=============       ] 64% 1.0s\u001b[0K\u001b[1G84.9 MiB [=============       ] 66% 0.9s\u001b[0K\u001b[1G84.9 MiB [==============      ] 67% 0.9s\u001b[0K\u001b[1G84.9 MiB [==============      ] 68% 0.9s\u001b[0K\u001b[1G84.9 MiB [==============      ] 69% 0.9s\u001b[0K\u001b[1G84.9 MiB [==============      ] 69% 0.8s\u001b[0K\u001b[1G84.9 MiB [==============      ] 70% 0.8s\u001b[0K\u001b[1G84.9 MiB [==============      ] 71% 0.8s\u001b[0K\u001b[1G84.9 MiB [===============     ] 72% 0.8s\u001b[0K\u001b[1G84.9 MiB [===============     ] 73% 0.7s\u001b[0K\u001b[1G84.9 MiB [===============     ] 75% 0.7s\u001b[0K\u001b[1G84.9 MiB [===============     ] 76% 0.6s\u001b[0K\u001b[1G84.9 MiB [===============     ] 77% 0.6s\u001b[0K\u001b[1G84.9 MiB [================    ] 77% 0.6s\u001b[0K\u001b[1G84.9 MiB [================    ] 78% 0.6s\u001b[0K\u001b[1G84.9 MiB [================    ] 79% 0.6s\u001b[0K\u001b[1G84.9 MiB [================    ] 79% 0.5s\u001b[0K\u001b[1G84.9 MiB [================    ] 80% 0.5s\u001b[0K\u001b[1G84.9 MiB [================    ] 81% 0.5s\u001b[0K\u001b[1G84.9 MiB [================    ] 82% 0.5s\u001b[0K\u001b[1G84.9 MiB [=================   ] 82% 0.5s\u001b[0K\u001b[1G84.9 MiB [=================   ] 83% 0.5s\u001b[0K\u001b[1G84.9 MiB [=================   ] 83% 0.4s\u001b[0K\u001b[1G84.9 MiB [=================   ] 84% 0.4s\u001b[0K\u001b[1G84.9 MiB [=================   ] 85% 0.4s\u001b[0K\u001b[1G84.9 MiB [=================   ] 87% 0.4s\u001b[0K\u001b[1G84.9 MiB [==================  ] 89% 0.3s\u001b[0K\u001b[1G84.9 MiB [==================  ] 90% 0.3s\u001b[0K\u001b[1G84.9 MiB [==================  ] 91% 0.2s\u001b[0K\u001b[1G84.9 MiB [==================  ] 92% 0.2s\u001b[0K\u001b[1G84.9 MiB [=================== ] 94% 0.2s\u001b[0K\u001b[1G84.9 MiB [=================== ] 94% 0.1s\u001b[0K\u001b[1G84.9 MiB [=================== ] 95% 0.1s\u001b[0K\u001b[1G84.9 MiB [====================] 97% 0.1s\u001b[0K\u001b[1G84.9 MiB [====================] 98% 0.0s\u001b[0K\u001b[1G84.9 MiB [====================] 99% 0.0s\u001b[0K\u001b[1G84.9 MiB [====================] 100% 0.0s\u001b[0K\n",
      "Firefox 135.0 (playwright build v1475) downloaded to /Users/amnaazhar/Library/Caches/ms-playwright/firefox-1475\n",
      "Downloading Webkit 18.4 (playwright build v2140)\u001b[2m from https://cdn.playwright.dev/dbazure/download/playwright/builds/webkit/2140/webkit-mac-15-arm64.zip\u001b[22m\n"
     ]
    },
    {
     "name": "stdout",
     "output_type": "stream",
     "text": [
      "\u001b[1G65.7 MiB [                    ] 0% 0.0s\u001b[0K\u001b[1G65.7 MiB [                    ] 0% 25.1s\u001b[0K\u001b[1G65.7 MiB [                    ] 0% 23.7s\u001b[0K\u001b[1G65.7 MiB [                    ] 0% 12.8s\u001b[0K\u001b[1G65.7 MiB [                    ] 0% 8.3s\u001b[0K\u001b[1G65.7 MiB [                    ] 1% 5.8s\u001b[0K\u001b[1G65.7 MiB [=                   ] 2% 4.0s\u001b[0K\u001b[1G65.7 MiB [=                   ] 3% 3.6s\u001b[0K\u001b[1G65.7 MiB [=                   ] 3% 3.8s\u001b[0K\u001b[1G65.7 MiB [=                   ] 4% 3.5s\u001b[0K\u001b[1G65.7 MiB [=                   ] 5% 3.1s\u001b[0K\u001b[1G65.7 MiB [=                   ] 6% 2.8s\u001b[0K\u001b[1G65.7 MiB [=                   ] 7% 2.7s\u001b[0K\u001b[1G65.7 MiB [==                  ] 8% 2.5s\u001b[0K\u001b[1G65.7 MiB [==                  ] 9% 2.4s\u001b[0K\u001b[1G65.7 MiB [==                  ] 10% 2.4s\u001b[0K\u001b[1G65.7 MiB [==                  ] 11% 2.2s\u001b[0K\u001b[1G65.7 MiB [==                  ] 12% 2.2s\u001b[0K\u001b[1G65.7 MiB [===                 ] 13% 2.0s\u001b[0K\u001b[1G65.7 MiB [===                 ] 14% 1.9s\u001b[0K\u001b[1G65.7 MiB [===                 ] 15% 2.0s\u001b[0K\u001b[1G65.7 MiB [===                 ] 16% 1.9s\u001b[0K\u001b[1G65.7 MiB [====                ] 17% 1.8s\u001b[0K\u001b[1G65.7 MiB [====                ] 18% 1.8s\u001b[0K\u001b[1G65.7 MiB [====                ] 19% 1.7s\u001b[0K\u001b[1G65.7 MiB [====                ] 20% 1.7s\u001b[0K\u001b[1G65.7 MiB [====                ] 21% 1.7s\u001b[0K\u001b[1G65.7 MiB [====                ] 22% 1.7s\u001b[0K\u001b[1G65.7 MiB [=====               ] 22% 1.7s\u001b[0K\u001b[1G65.7 MiB [=====               ] 23% 1.6s\u001b[0K\u001b[1G65.7 MiB [=====               ] 24% 1.6s\u001b[0K\u001b[1G65.7 MiB [=====               ] 26% 1.5s\u001b[0K\u001b[1G65.7 MiB [=====               ] 27% 1.5s\u001b[0K\u001b[1G65.7 MiB [======              ] 27% 1.5s\u001b[0K\u001b[1G65.7 MiB [======              ] 28% 1.5s\u001b[0K\u001b[1G65.7 MiB [======              ] 29% 1.5s\u001b[0K\u001b[1G65.7 MiB [======              ] 30% 1.4s\u001b[0K\u001b[1G65.7 MiB [======              ] 31% 1.4s\u001b[0K\u001b[1G65.7 MiB [=======             ] 33% 1.4s\u001b[0K\u001b[1G65.7 MiB [=======             ] 34% 1.3s\u001b[0K\u001b[1G65.7 MiB [=======             ] 35% 1.3s\u001b[0K\u001b[1G65.7 MiB [=======             ] 36% 1.3s\u001b[0K\u001b[1G65.7 MiB [========            ] 37% 1.3s\u001b[0K\u001b[1G65.7 MiB [========            ] 38% 1.2s\u001b[0K\u001b[1G65.7 MiB [========            ] 39% 1.2s\u001b[0K\u001b[1G65.7 MiB [========            ] 40% 1.2s\u001b[0K\u001b[1G65.7 MiB [========            ] 41% 1.2s\u001b[0K\u001b[1G65.7 MiB [========            ] 42% 1.1s\u001b[0K\u001b[1G65.7 MiB [=========           ] 43% 1.1s\u001b[0K\u001b[1G65.7 MiB [=========           ] 44% 1.1s\u001b[0K\u001b[1G65.7 MiB [=========           ] 45% 1.1s\u001b[0K\u001b[1G65.7 MiB [=========           ] 46% 1.0s\u001b[0K\u001b[1G65.7 MiB [==========          ] 47% 1.0s\u001b[0K\u001b[1G65.7 MiB [==========          ] 48% 1.0s\u001b[0K\u001b[1G65.7 MiB [==========          ] 49% 1.0s\u001b[0K\u001b[1G65.7 MiB [==========          ] 50% 1.0s\u001b[0K\u001b[1G65.7 MiB [==========          ] 51% 0.9s\u001b[0K\u001b[1G65.7 MiB [==========          ] 52% 0.9s\u001b[0K\u001b[1G65.7 MiB [===========         ] 53% 0.9s\u001b[0K\u001b[1G65.7 MiB [===========         ] 54% 0.9s\u001b[0K\u001b[1G65.7 MiB [===========         ] 55% 0.9s\u001b[0K\u001b[1G65.7 MiB [===========         ] 56% 0.9s\u001b[0K\u001b[1G65.7 MiB [============        ] 57% 0.8s\u001b[0K\u001b[1G65.7 MiB [============        ] 58% 0.8s\u001b[0K\u001b[1G65.7 MiB [============        ] 59% 0.8s\u001b[0K\u001b[1G65.7 MiB [============        ] 60% 0.8s\u001b[0K\u001b[1G65.7 MiB [============        ] 61% 0.8s\u001b[0K\u001b[1G65.7 MiB [=============       ] 62% 0.7s\u001b[0K\u001b[1G65.7 MiB [=============       ] 63% 0.7s\u001b[0K\u001b[1G65.7 MiB [=============       ] 64% 0.7s\u001b[0K\u001b[1G65.7 MiB [=============       ] 65% 0.7s\u001b[0K\u001b[1G65.7 MiB [=============       ] 66% 0.7s\u001b[0K\u001b[1G65.7 MiB [=============       ] 67% 0.6s\u001b[0K\u001b[1G65.7 MiB [==============      ] 68% 0.6s\u001b[0K\u001b[1G65.7 MiB [==============      ] 69% 0.6s\u001b[0K\u001b[1G65.7 MiB [==============      ] 70% 0.6s\u001b[0K\u001b[1G65.7 MiB [==============      ] 71% 0.6s\u001b[0K\u001b[1G65.7 MiB [==============      ] 72% 0.6s\u001b[0K\u001b[1G65.7 MiB [===============     ] 73% 0.5s\u001b[0K\u001b[1G65.7 MiB [===============     ] 74% 0.5s\u001b[0K\u001b[1G65.7 MiB [===============     ] 75% 0.5s\u001b[0K\u001b[1G65.7 MiB [===============     ] 76% 0.5s\u001b[0K\u001b[1G65.7 MiB [===============     ] 77% 0.5s\u001b[0K\u001b[1G65.7 MiB [================    ] 78% 0.4s\u001b[0K\u001b[1G65.7 MiB [================    ] 79% 0.4s\u001b[0K\u001b[1G65.7 MiB [================    ] 80% 0.4s\u001b[0K\u001b[1G65.7 MiB [================    ] 82% 0.4s\u001b[0K\u001b[1G65.7 MiB [=================   ] 82% 0.3s\u001b[0K\u001b[1G65.7 MiB [=================   ] 83% 0.3s\u001b[0K\u001b[1G65.7 MiB [=================   ] 84% 0.3s\u001b[0K\u001b[1G65.7 MiB [=================   ] 85% 0.3s\u001b[0K\u001b[1G65.7 MiB [=================   ] 86% 0.3s\u001b[0K\u001b[1G65.7 MiB [=================   ] 87% 0.3s\u001b[0K\u001b[1G65.7 MiB [==================  ] 88% 0.2s\u001b[0K\u001b[1G65.7 MiB [==================  ] 89% 0.2s\u001b[0K\u001b[1G65.7 MiB [==================  ] 90% 0.2s\u001b[0K\u001b[1G65.7 MiB [==================  ] 91% 0.2s\u001b[0K\u001b[1G65.7 MiB [=================== ] 92% 0.1s\u001b[0K\u001b[1G65.7 MiB [=================== ] 93% 0.1s\u001b[0K\u001b[1G65.7 MiB [=================== ] 94% 0.1s\u001b[0K\u001b[1G65.7 MiB [=================== ] 95% 0.1s\u001b[0K\u001b[1G65.7 MiB [=================== ] 96% 0.1s\u001b[0K\u001b[1G65.7 MiB [=================== ] 97% 0.1s\u001b[0K\u001b[1G65.7 MiB [====================] 98% 0.0s\u001b[0K\u001b[1G65.7 MiB [====================] 99% 0.0s\u001b[0K\u001b[1G65.7 MiB [====================] 100% 0.0s\u001b[0K\n",
      "Webkit 18.4 (playwright build v2140) downloaded to /Users/amnaazhar/Library/Caches/ms-playwright/webkit-2140\n",
      "Downloading FFMPEG playwright build v1011\u001b[2m from https://cdn.playwright.dev/dbazure/download/playwright/builds/ffmpeg/1011/ffmpeg-mac-arm64.zip\u001b[22m\n",
      "\u001b[1G1 MiB [                    ] 1% 0.0s\u001b[0K\u001b[1G1 MiB [=                   ] 6% 0.3s\u001b[0K\u001b[1G1 MiB [===                 ] 13% 0.3s\u001b[0K\u001b[1G1 MiB [=====               ] 25% 0.2s\u001b[0K\u001b[1G1 MiB [==========          ] 51% 0.1s\u001b[0K\u001b[1G1 MiB [================    ] 81% 0.0s\u001b[0K\u001b[1G1 MiB [====================] 100% 0.0s\u001b[0K\n",
      "FFMPEG playwright build v1011 downloaded to /Users/amnaazhar/Library/Caches/ms-playwright/ffmpeg-1011\n"
     ]
    }
   ],
   "source": [
    "!playwright install"
   ]
  },
  {
   "cell_type": "code",
   "execution_count": 18,
   "id": "7470e08f",
   "metadata": {},
   "outputs": [
    {
     "name": "stdout",
     "output_type": "stream",
     "text": [
      "<!DOCTYPE html><html lang=\"en\"><head>\n",
      "      <meta charset=\"utf-8\">\n",
      "      <meta http-equiv=\"X-UA-Compatible\" content=\"IE=edge\">\n",
      "\n",
      "              <meta name=\"viewport\" content=\"width=device-width, initial-scale=1\">\n",
      "      \n",
      "      <title>Participants - 2024 Ontario Open International Jiu Jitsu Championship - GI Edition - Smoothcomp</title>\n",
      "\n",
      "      <meta name=\"author\" content=\"\">\n",
      "      <meta name=\"csrf-token\" content=\"U31Srf94y1S2QcRTAnd4iO1qmOAKnPhswuk4DnrT\">\n",
      "\n",
      "      <link rel=\"alternate\" hreflang=\"en\" href=\"https://ontario-jiu-jitsu.smoothcomp.com/en/event/15475/participants\">\n",
      "      <link rel=\"alternate\" hreflang=\"pt_BR\" href=\"https://ontario-jiu-jitsu.smoothcomp.com/pt_BR/event/15475/participants\">\n",
      "      <link rel=\"alternate\" hreflang=\"es\" href=\"https://ontario-jiu-jitsu.smoothcomp.com/es/event/15475/participants\">\n",
      "      <link rel=\"alternate\" hreflang=\"jp\" href=\"https://ontario-jiu-jitsu.smoothcomp.com/jp/event/15475/participants\">\n",
      "      <link rel=\"alternate\" hreflang=\"fr\" href=\"https://ontario-jiu-jitsu.smoothcomp.com/fr/event/15475/participants\">\n",
      "      <link rel=\"alternate\" hreflang=\"it\" href=\"https://ontario-jiu-jitsu.smoothcomp.com/it/event/15475/participants\">\n",
      "      <link rel=\"alternate\" hreflang=\"ru\" href=\"https://ontario-jiu-jitsu.smoothcomp.com/ru/event/15475/participants\">\n",
      "      <link rel=\"alternate\" hreflang=\"sv\" href=\"https://ontario-jiu-jitsu.smoothcomp.com/sv/event/15475/participants\">\n",
      "      <link rel=\"alternate\" hreflang=\"cs\" href=\"https://ontario-jiu-jitsu.smoothcomp.com/cs/event/15475/participants\">\n",
      "      <link rel=\"alternate\" hreflang=\"zh\" href=\"https://ontario-jiu-jitsu.smoothcomp.com/zh/event/15475/participants\">\n",
      "      <link rel=\"alternate\" hreflang=\"ko\" href=\"https://ontario-jiu-jitsu.smoothcomp.com/ko/event/15475/participants\">\n",
      "\n",
      "      \n",
      "\n",
      "      <script src=\"https://connect.facebook.net/signals/config/339868009825147?v=2.9.196&amp;r=stable&amp;domain=ontario-jiu-jitsu.smoothcomp.com&amp;hme=3469cd2310bfdef0792a05d8d61fe44de3551987a5200ece9665feac8460097d&\n",
      "Found 0 participant cards\n",
      "Empty DataFrame\n",
      "Columns: [Name, Team, Division, Category]\n",
      "Index: []\n",
      "✅ Data saved to smoothcomp_participants.csv\n"
     ]
    }
   ],
   "source": [
    "import asyncio\n",
    "from playwright.async_api import async_playwright\n",
    "import pandas as pd\n",
    "from bs4 import BeautifulSoup\n",
    "\n",
    "async def scrape_smoothcomp():\n",
    "    async with async_playwright() as p:\n",
    "        # Launch browser in visible mode to debug\n",
    "        browser = await p.chromium.launch(headless=False)\n",
    "        page = await browser.new_page()\n",
    "        \n",
    "        # Go to the participant page\n",
    "        await page.goto(\"https://ontario-jiu-jitsu.smoothcomp.com/en/event/15475/participants\")\n",
    "\n",
    "        # ✅ Try to accept cookies or modals if present\n",
    "        try:\n",
    "            await page.click(\"button:has-text('Accept')\")\n",
    "            await page.wait_for_timeout(1000)\n",
    "        except:\n",
    "            pass\n",
    "\n",
    "        # ✅ Scroll to bottom to trigger lazy loading\n",
    "        for _ in range(50):  # more scrolls = more athletes\n",
    "            await page.mouse.wheel(0, 3000)\n",
    "            await page.wait_for_timeout(2000)  # wait for JS content to render\n",
    "\n",
    "        # ✅ Get page HTML after full scroll\n",
    "        content = await page.content()\n",
    "        await browser.close()\n",
    "\n",
    "        # ✅ Debug: check if content loaded\n",
    "        print(content[:2000])  # You can comment this out later\n",
    "\n",
    "        # ✅ Parse with BeautifulSoup\n",
    "        soup = BeautifulSoup(content, \"html.parser\")\n",
    "        participants = soup.find_all(\"div\", class_=\"participant-item\")\n",
    "        print(f\"Found {len(participants)} participant cards\")\n",
    "\n",
    "        # ✅ Extract fields\n",
    "        data = []\n",
    "        for p in participants:\n",
    "            try:\n",
    "                name = p.select_one(\".name\").text.strip()\n",
    "                team = p.select_one(\".club\").text.strip()\n",
    "                tags = p.select(\".label\")\n",
    "                division = tags[0].text.strip() if len(tags) > 0 else \"N/A\"\n",
    "                category = tags[1].text.strip() if len(tags) > 1 else \"N/A\"\n",
    "                data.append([name, team, division, category])\n",
    "            except Exception as e:\n",
    "                print(\"Error extracting an athlete:\", e)\n",
    "                continue\n",
    "\n",
    "        # ✅ Save as DataFrame and CSV\n",
    "        df = pd.DataFrame(data, columns=[\"Name\", \"Team\", \"Division\", \"Category\"])\n",
    "        print(df.head())\n",
    "        df.to_csv(\"smoothcomp_participants.csv\", index=False)\n",
    "        print(\"✅ Data saved to smoothcomp_participants.csv\")\n",
    "\n",
    "# ✅ Run the async function\n",
    "await scrape_smoothcomp()\n"
   ]
  },
  {
   "cell_type": "code",
   "execution_count": 17,
   "id": "a58a330d",
   "metadata": {},
   "outputs": [
    {
     "data": {
      "text/plain": [
       "[]"
      ]
     },
     "execution_count": 17,
     "metadata": {},
     "output_type": "execute_result"
    }
   ],
   "source": [
    "data"
   ]
  },
  {
   "cell_type": "code",
   "execution_count": null,
   "id": "2f63586a",
   "metadata": {},
   "outputs": [],
   "source": []
  }
 ],
 "metadata": {
  "kernelspec": {
   "display_name": "Python 3 (ipykernel)",
   "language": "python",
   "name": "python3"
  },
  "language_info": {
   "codemirror_mode": {
    "name": "ipython",
    "version": 3
   },
   "file_extension": ".py",
   "mimetype": "text/x-python",
   "name": "python",
   "nbconvert_exporter": "python",
   "pygments_lexer": "ipython3",
   "version": "3.11.5"
  }
 },
 "nbformat": 4,
 "nbformat_minor": 5
}
